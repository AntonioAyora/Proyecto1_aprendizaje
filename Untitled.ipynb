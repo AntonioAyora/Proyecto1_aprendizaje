{
 "cells": [
  {
   "cell_type": "code",
   "execution_count": 1,
   "id": "e0e88fd8",
   "metadata": {},
   "outputs": [],
   "source": [
    "def sex_num(x):\n",
    "    if x == \"female\":\n",
    "        return 1\n",
    "    else:\n",
    "        return 0"
   ]
  },
  {
   "cell_type": "code",
   "execution_count": null,
   "id": "ecdc941a",
   "metadata": {},
   "outputs": [],
   "source": [
    "#Función de status\n",
    "df = pd.read_csv(\"datos/titanic.csv\")\n",
    "\n",
    "df['GenderDummy_F'] = df['Sex'].apply(sex_num)\n",
    "df\n"
   ]
  }
 ],
 "metadata": {
  "kernelspec": {
   "display_name": "Python 3 (ipykernel)",
   "language": "python",
   "name": "python3"
  },
  "language_info": {
   "codemirror_mode": {
    "name": "ipython",
    "version": 3
   },
   "file_extension": ".py",
   "mimetype": "text/x-python",
   "name": "python",
   "nbconvert_exporter": "python",
   "pygments_lexer": "ipython3",
   "version": "3.9.6"
  }
 },
 "nbformat": 4,
 "nbformat_minor": 5
}
